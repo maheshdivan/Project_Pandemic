{
  "nbformat": 4,
  "nbformat_minor": 0,
  "metadata": {
    "colab": {
      "name": "tweet_sentiment_analysis.ipynb",
      "provenance": []
    },
    "kernelspec": {
      "name": "python3",
      "display_name": "Python 3"
    }
  },
  "cells": [
    {
      "cell_type": "code",
      "metadata": {
        "id": "9BtCOyQ3kChJ",
        "colab_type": "code",
        "colab": {}
      },
      "source": [
        "# Install Java, Spark, and Findspark\n",
        "!apt-get install openjdk-8-jdk-headless -qq > /dev/null\n",
        "!wget -q http://www-us.apache.org/dist/spark/spark-2.4.5/spark-2.4.5-bin-hadoop2.7.tgz\n",
        "!tar xf spark-2.4.5-bin-hadoop2.7.tgz\n",
        "!pip install -q findspark\n",
        "\n",
        "# Set Environment Variables\n",
        "import os\n",
        "os.environ[\"JAVA_HOME\"] = \"/usr/lib/jvm/java-8-openjdk-amd64\"\n",
        "os.environ[\"SPARK_HOME\"] = \"/content/spark-2.4.5-bin-hadoop2.7\"\n",
        "\n",
        "# Start a SparkSession\n",
        "import findspark\n",
        "findspark.init()"
      ],
      "execution_count": 0,
      "outputs": []
    },
    {
      "cell_type": "code",
      "metadata": {
        "id": "3FP8HaLokHui",
        "colab_type": "code",
        "colab": {}
      },
      "source": [
        "from pyspark.sql import SparkSession\n",
        "spark = SparkSession.builder.appName(\"SentimentakAnalysis\").getOrCreate()"
      ],
      "execution_count": 0,
      "outputs": []
    },
    {
      "cell_type": "code",
      "metadata": {
        "id": "9LSw6QzzkMkY",
        "colab_type": "code",
        "outputId": "e7bf7030-0977-4e9b-90bc-33dd374e2a15",
        "colab": {
          "base_uri": "https://localhost:8080/",
          "height": 309
        }
      },
      "source": [
        "from pyspark import SparkFiles\n",
        "# Load in user_data.csv from S3 into a DataFrame\n",
        "url = \"https://corona-tweets-04-10.s3.us-east-2.amazonaws.com/2020-03-30+Coronavirus+Tweets.CSV\"\n",
        "spark.sparkContext.addFile(url)\n",
        "\n",
        "df = spark.read.option('header', 'true').csv(SparkFiles.get(\"2020-03-30+Coronavirus+Tweets.CSV\"), inferSchema=True, sep=',', timestampFormat=\"mm/dd/yy\")\n",
        "df.show(10)"
      ],
      "execution_count": 0,
      "outputs": [
        {
          "output_type": "stream",
          "text": [
            "+--------------------+-------------------+--------------------+--------------+--------------------+---------+------------------+----------------+--------------------+--------+----------+----------------+-------------+------------+---------------+--------------------+---------------+-------------+------------+--------------------+--------+----+\n",
            "|           status_id|            user_id|          created_at|   screen_name|                text|   source|reply_to_status_id|reply_to_user_id|reply_to_screen_name|is_quote|is_retweet|favourites_count|retweet_count|country_code|place_full_name|          place_type|followers_count|friends_count|account_lang|  account_created_at|verified|lang|\n",
            "+--------------------+-------------------+--------------------+--------------+--------------------+---------+------------------+----------------+--------------------+--------+----------+----------------+-------------+------------+---------------+--------------------+---------------+-------------+------------+--------------------+--------+----+\n",
            "| 1244414033547030529|1054394794305302528|2020-03-30T00:00:00Z|  Ecodiariozac|#Entérate Gobiern...|TweetDeck|              null|            null|                null|   FALSE|     FALSE|             362|            0|        null|           null|                null|            679|          991|        null|2018-10-22T15:31:23Z|   FALSE|  es|\n",
            "| 1244414034411171845|           31023547|2020-03-30T00:00:00Z|Reporte_Indigo|#PorSiNoLoViste |...|TweetDeck|              null|            null|                null|   FALSE|     FALSE|            1764|            8|        null|           null|                null|         898366|          621|        null|2009-04-14T01:47:10Z|    TRUE|  es|\n",
            "| 1244414033333227523|          296096105|2020-03-30T00:00:00Z|       tv1_rtm|Pengurusan kes-ke...|     null|              null|            null|                null|    null|      null|            null|         null|        null|           null|                null|           null|         null|        null|                null|    null|null|\n",
            "|#PerintahKawalanP...|               null|                null|          null|                null|     null|              null|            null|                null|    null|      null|            null|         null|        null|           null|                null|           null|         null|        null|                null|    null|null|\n",
            "|       #DudukDiRumah|               null|                null|          null|                null|     null|              null|            null|                null|    null|      null|            null|         null|        null|           null|                null|           null|         null|        null|                null|    null|null|\n",
            "|         #StayAtHome|               null|                null|          null|                null|     null|              null|            null|                null|    null|      null|            null|         null|        null|           null|                null|           null|         null|        null|                null|    null|null|\n",
            "|          #ambiltahu|               null|                null|          null|                null|     null|              null|            null|                null|    null|      null|            null|         null|        null|           null|                null|           null|         null|        null|                null|    null|null|\n",
            "|                #RTM|               null|                null|          null|                null|     null|              null|            null|                null|    null|      null|            null|         null|        null|           null|                null|           null|         null|        null|                null|    null|null|\n",
            "|                #TV1|               null|                null|          null|                null|     null|              null|            null|                null|    null|      null|            null|         null|        null|           null|                null|           null|         null|        null|                null|    null|null|\n",
            "|#covid19 https://...|          TweetDeck|                null|          null|                null|    FALSE|             FALSE|            3746|                   1|    null|      null|            null|        38609|         534|           null|2011-05-10T05:57:18Z|          FALSE|           in|        null|                null|    null|null|\n",
            "+--------------------+-------------------+--------------------+--------------+--------------------+---------+------------------+----------------+--------------------+--------+----------+----------------+-------------+------------+---------------+--------------------+---------------+-------------+------------+--------------------+--------+----+\n",
            "only showing top 10 rows\n",
            "\n"
          ],
          "name": "stdout"
        }
      ]
    },
    {
      "cell_type": "markdown",
      "metadata": {
        "id": "IifpzN6zkN5Q",
        "colab_type": "text"
      },
      "source": [
        "## Transform DataFrame to remove unneccessary chars in tweet"
      ]
    },
    {
      "cell_type": "code",
      "metadata": {
        "id": "E72hLCa7kT_D",
        "colab_type": "code",
        "outputId": "acdf20b2-ae71-4b59-e6a9-537069887720",
        "colab": {
          "base_uri": "https://localhost:8080/",
          "height": 459
        }
      },
      "source": [
        "tweet_df = df.select([\"text\",\"favourites_count\",\"friends_count\"])\n",
        "tweet_df.show()"
      ],
      "execution_count": 0,
      "outputs": [
        {
          "output_type": "stream",
          "text": [
            "+--------------------+----------------+-------------+\n",
            "|                text|favourites_count|friends_count|\n",
            "+--------------------+----------------+-------------+\n",
            "|#Entérate Gobiern...|             362|          991|\n",
            "|#PorSiNoLoViste |...|            1764|          621|\n",
            "|Pengurusan kes-ke...|            null|         null|\n",
            "|                null|            null|         null|\n",
            "|                null|            null|         null|\n",
            "|                null|            null|         null|\n",
            "|                null|            null|         null|\n",
            "|                null|            null|         null|\n",
            "|                null|            null|         null|\n",
            "|                null|            null|           in|\n",
            "|Médico cirujano, ...|            null|         null|\n",
            "|                null|            null|         TRUE|\n",
            "|La @NlSalud imple...|            null|         null|\n",
            "|                null|            null|         null|\n",
            "|                null|            null|           es|\n",
            "|Para convivir bie...|            null|         null|\n",
            "|                null|            null|         null|\n",
            "|                null|            null|         null|\n",
            "|                null|            null|         null|\n",
            "|                null|            null|         null|\n",
            "+--------------------+----------------+-------------+\n",
            "only showing top 20 rows\n",
            "\n"
          ],
          "name": "stdout"
        }
      ]
    },
    {
      "cell_type": "code",
      "metadata": {
        "id": "g9WwkR3HtP6j",
        "colab_type": "code",
        "colab": {}
      },
      "source": [
        "from pyspark.sql.types import IntegerType"
      ],
      "execution_count": 0,
      "outputs": []
    },
    {
      "cell_type": "code",
      "metadata": {
        "id": "e1AfV2TtY71f",
        "colab_type": "code",
        "colab": {}
      },
      "source": [
        "tweet_text_df=tweet_df.select([\"text\",\"friends_count\"])"
      ],
      "execution_count": 0,
      "outputs": []
    },
    {
      "cell_type": "code",
      "metadata": {
        "id": "MQOOndsRtWMU",
        "colab_type": "code",
        "outputId": "5755abdc-7ddd-41c2-88ed-3c7a935a962c",
        "colab": {
          "base_uri": "https://localhost:8080/",
          "height": 34
        }
      },
      "source": [
        "tweet_text_df.withColumn(\"friends_count\", tweet_text_df[\"friends_count\"].cast(IntegerType()))"
      ],
      "execution_count": 0,
      "outputs": [
        {
          "output_type": "execute_result",
          "data": {
            "text/plain": [
              "DataFrame[text: string, friends_count: int]"
            ]
          },
          "metadata": {
            "tags": []
          },
          "execution_count": 7
        }
      ]
    },
    {
      "cell_type": "code",
      "metadata": {
        "id": "ChM93mnTZLT3",
        "colab_type": "code",
        "outputId": "bfca1126-8c25-4f8b-b8b9-abd5064c3617",
        "colab": {
          "base_uri": "https://localhost:8080/",
          "height": 459
        }
      },
      "source": [
        "tweet_text_df.show()"
      ],
      "execution_count": 0,
      "outputs": [
        {
          "output_type": "stream",
          "text": [
            "+--------------------+-------------+\n",
            "|                text|friends_count|\n",
            "+--------------------+-------------+\n",
            "|#Entérate Gobiern...|          991|\n",
            "|#PorSiNoLoViste |...|          621|\n",
            "|Pengurusan kes-ke...|         null|\n",
            "|                null|         null|\n",
            "|                null|         null|\n",
            "|                null|         null|\n",
            "|                null|         null|\n",
            "|                null|         null|\n",
            "|                null|         null|\n",
            "|                null|           in|\n",
            "|Médico cirujano, ...|         null|\n",
            "|                null|         TRUE|\n",
            "|La @NlSalud imple...|         null|\n",
            "|                null|         null|\n",
            "|                null|           es|\n",
            "|Para convivir bie...|         null|\n",
            "|                null|         null|\n",
            "|                null|         null|\n",
            "|                null|         null|\n",
            "|                null|         null|\n",
            "+--------------------+-------------+\n",
            "only showing top 20 rows\n",
            "\n"
          ],
          "name": "stdout"
        }
      ]
    },
    {
      "cell_type": "markdown",
      "metadata": {
        "id": "M0fELxElXJzT",
        "colab_type": "text"
      },
      "source": [
        "Pre-process tweets"
      ]
    },
    {
      "cell_type": "code",
      "metadata": {
        "id": "9Wx32EJPbc1k",
        "colab_type": "code",
        "colab": {}
      },
      "source": [
        "from pyspark.sql.functions import regexp_replace, length"
      ],
      "execution_count": 0,
      "outputs": []
    },
    {
      "cell_type": "code",
      "metadata": {
        "id": "me8s1H-ddO8B",
        "colab_type": "code",
        "colab": {}
      },
      "source": [
        "tweet_df1=tweet_text_df.withColumn(\"text_new\",regexp_replace(\"text\",'((www\\.[^\\s]+)|(https?://[^\\s]+))', 'URL'))"
      ],
      "execution_count": 0,
      "outputs": []
    },
    {
      "cell_type": "code",
      "metadata": {
        "id": "p3r5H-fde2CY",
        "colab_type": "code",
        "outputId": "5da2d158-7f85-496b-83e4-b7ef8c89a2bb",
        "colab": {
          "base_uri": "https://localhost:8080/",
          "height": 459
        }
      },
      "source": [
        "tweet_df1.show()"
      ],
      "execution_count": 0,
      "outputs": [
        {
          "output_type": "stream",
          "text": [
            "+--------------------+-------------+--------------------+\n",
            "|                text|friends_count|            text_new|\n",
            "+--------------------+-------------+--------------------+\n",
            "|#Entérate Gobiern...|          991|#Entérate Gobiern...|\n",
            "|#PorSiNoLoViste |...|          621|#PorSiNoLoViste |...|\n",
            "|Pengurusan kes-ke...|         null|Pengurusan kes-ke...|\n",
            "|                null|         null|                null|\n",
            "|                null|         null|                null|\n",
            "|                null|         null|                null|\n",
            "|                null|         null|                null|\n",
            "|                null|         null|                null|\n",
            "|                null|         null|                null|\n",
            "|                null|           in|                null|\n",
            "|Médico cirujano, ...|         null|Médico cirujano, ...|\n",
            "|                null|         TRUE|                null|\n",
            "|La @NlSalud imple...|         null|La @NlSalud imple...|\n",
            "|                null|         null|                null|\n",
            "|                null|           es|                null|\n",
            "|Para convivir bie...|         null|Para convivir bie...|\n",
            "|                null|         null|                null|\n",
            "|                null|         null|                null|\n",
            "|                null|         null|                null|\n",
            "|                null|         null|                null|\n",
            "+--------------------+-------------+--------------------+\n",
            "only showing top 20 rows\n",
            "\n"
          ],
          "name": "stdout"
        }
      ]
    },
    {
      "cell_type": "code",
      "metadata": {
        "id": "Se0hhJxbedlZ",
        "colab_type": "code",
        "colab": {}
      },
      "source": [
        "tweet_df2=tweet_df1.withColumn(\"text_new_1\",regexp_replace(\"text_new\",'@[^\\s]+', 'AT_USER'))"
      ],
      "execution_count": 0,
      "outputs": []
    },
    {
      "cell_type": "code",
      "metadata": {
        "id": "PhiWqWYcewWx",
        "colab_type": "code",
        "colab": {}
      },
      "source": [
        "tweet_df3=tweet_df2.withColumn(\"text_new_2\",regexp_replace(\"text_new_1\",r'#([^\\s]+)',r'\\1'))"
      ],
      "execution_count": 0,
      "outputs": []
    },
    {
      "cell_type": "code",
      "metadata": {
        "id": "5cnnwWgxfU71",
        "colab_type": "code",
        "outputId": "65637fb2-6708-4bd4-9ba5-8034f6f3719e",
        "colab": {
          "base_uri": "https://localhost:8080/",
          "height": 479
        }
      },
      "source": [
        "tweet_df3.show()"
      ],
      "execution_count": 0,
      "outputs": [
        {
          "output_type": "stream",
          "text": [
            "+--------------------+-------------+--------------------+--------------------+--------------------+\n",
            "|                text|friends_count|            text_new|          text_new_1|          text_new_2|\n",
            "+--------------------+-------------+--------------------+--------------------+--------------------+\n",
            "|#Entérate Gobiern...|          991|#Entérate Gobiern...|#Entérate Gobiern...|1 Gobierno del Es...|\n",
            "|#PorSiNoLoViste |...|          621|#PorSiNoLoViste |...|#PorSiNoLoViste |...|1 | Si eres un cl...|\n",
            "|Pengurusan kes-ke...|         null|Pengurusan kes-ke...|Pengurusan kes-ke...|Pengurusan kes-ke...|\n",
            "|                null|         null|                null|                null|                null|\n",
            "|                null|         null|                null|                null|                null|\n",
            "|                null|         null|                null|                null|                null|\n",
            "|                null|         null|                null|                null|                null|\n",
            "|                null|         null|                null|                null|                null|\n",
            "|                null|         null|                null|                null|                null|\n",
            "|                null|           in|                null|                null|                null|\n",
            "|Médico cirujano, ...|         null|Médico cirujano, ...|Médico cirujano, ...|Médico cirujano, ...|\n",
            "|                null|         TRUE|                null|                null|                null|\n",
            "|La @NlSalud imple...|         null|La @NlSalud imple...|La AT_USER implem...|La AT_USER implem...|\n",
            "|                null|         null|                null|                null|                null|\n",
            "|                null|           es|                null|                null|                null|\n",
            "|Para convivir bie...|         null|Para convivir bie...|Para convivir bie...|Para convivir bie...|\n",
            "|                null|         null|                null|                null|                null|\n",
            "|                null|         null|                null|                null|                null|\n",
            "|                null|         null|                null|                null|                null|\n",
            "|                null|         null|                null|                null|                null|\n",
            "+--------------------+-------------+--------------------+--------------------+--------------------+\n",
            "only showing top 20 rows\n",
            "\n"
          ],
          "name": "stdout"
        }
      ]
    },
    {
      "cell_type": "code",
      "metadata": {
        "id": "NmCeoiOQfvFl",
        "colab_type": "code",
        "colab": {}
      },
      "source": [
        "final_tweet=tweet_df3.select([\"friends_count\",\"text_new_2\"])"
      ],
      "execution_count": 0,
      "outputs": []
    },
    {
      "cell_type": "code",
      "metadata": {
        "id": "PLS-iBYtgqn7",
        "colab_type": "code",
        "colab": {}
      },
      "source": [
        "final_tweet =final_tweet.withColumnRenamed(\"text_new_2\", \"text\") \\\n",
        "              .withColumnRenamed(\"friends_count\", \"label\")"
      ],
      "execution_count": 0,
      "outputs": []
    },
    {
      "cell_type": "code",
      "metadata": {
        "id": "sHEFJb-Gf32D",
        "colab_type": "code",
        "colab": {}
      },
      "source": [
        "final_tweet1=final_tweet.filter(final_tweet.text.isNotNull())"
      ],
      "execution_count": 0,
      "outputs": []
    },
    {
      "cell_type": "markdown",
      "metadata": {
        "id": "5czW4SaomnPV",
        "colab_type": "text"
      },
      "source": [
        "Remove non english characters"
      ]
    },
    {
      "cell_type": "code",
      "metadata": {
        "id": "V2s6cbTHlPyO",
        "colab_type": "code",
        "colab": {}
      },
      "source": [
        "from pyspark.sql.functions import udf\n",
        "\n",
        "def ascii_ignore(x):\n",
        "    return x.encode('ascii', 'ignore').decode('ascii')\n",
        "\n",
        "ascii_udf = udf(ascii_ignore)\n",
        "\n",
        "final_tweet2=final_tweet1.withColumn(\"text_1\", ascii_udf('text'))"
      ],
      "execution_count": 0,
      "outputs": []
    },
    {
      "cell_type": "code",
      "metadata": {
        "id": "mq1hzZf8kbgR",
        "colab_type": "code",
        "colab": {}
      },
      "source": [
        "final_tweet3=final_tweet2.select([\"label\",\"text_1\"])"
      ],
      "execution_count": 0,
      "outputs": []
    },
    {
      "cell_type": "code",
      "metadata": {
        "id": "m-BL7WuHon5M",
        "colab_type": "code",
        "colab": {}
      },
      "source": [
        "final_tweet3=final_tweet3.withColumn('tweet_length', length(final_tweet3['text_1'])).dropna()"
      ],
      "execution_count": 0,
      "outputs": []
    },
    {
      "cell_type": "code",
      "metadata": {
        "id": "je87kKCjsoHj",
        "colab_type": "code",
        "outputId": "6c5df187-3666-462b-d358-2c07ca3d9e78",
        "colab": {
          "base_uri": "https://localhost:8080/",
          "height": 459
        }
      },
      "source": [
        "final_tweet3.show()"
      ],
      "execution_count": 0,
      "outputs": [
        {
          "output_type": "stream",
          "text": [
            "+-----+--------------------+------------+\n",
            "|label|              text_1|tweet_length|\n",
            "+-----+--------------------+------------+\n",
            "|  991|1 Gobierno del Es...|         182|\n",
            "|  621|1 | Si eres un cl...|         186|\n",
            "|  547| 330MCO1 1 1 1 1 URL|          19|\n",
            "|  212|1 1 sobre el 1 1 ...|         103|\n",
            "|   75|1 | 1 En tus mano...|          67|\n",
            "| 4915|To treat COVID-19...|         112|\n",
            "| 1159|To treat COVID-19...|         112|\n",
            "|   en|         MichiganDOT|          11|\n",
            "|   22|1 1 1 1 1 1 1 1 1...|          45|\n",
            "|  237|Contacta amb AT_U...|         156|\n",
            "| 2287|In this hospital,...|         173|\n",
            "|  851|1 Desde las 22:00...|         173|\n",
            "|   53|Los ecuatorianos ...|         151|\n",
            "|  125|1 1 1 Sabas que u...|         171|\n",
            "| 6672|Sew a Face Mask f...|          71|\n",
            "|  356|Small businesses ...|         193|\n",
            "| 1027|Women make up 70%...|         137|\n",
            "| 1384|Mantener el hbito...|         109|\n",
            "|    0|We can all agree ...|         278|\n",
            "|  747|Para conter 1 1 i...|          82|\n",
            "+-----+--------------------+------------+\n",
            "only showing top 20 rows\n",
            "\n"
          ],
          "name": "stdout"
        }
      ]
    },
    {
      "cell_type": "code",
      "metadata": {
        "id": "krAFNL8q4mWg",
        "colab_type": "code",
        "colab": {}
      },
      "source": [
        "final_tweet4=final_tweet3.select(\"text_1\")"
      ],
      "execution_count": 0,
      "outputs": []
    },
    {
      "cell_type": "code",
      "metadata": {
        "id": "3UUuV5n_4wcU",
        "colab_type": "code",
        "outputId": "c0a17db6-6d56-41a8-c6c3-fe3f3c37011e",
        "colab": {
          "base_uri": "https://localhost:8080/",
          "height": 459
        }
      },
      "source": [
        "final_tweet4.show()"
      ],
      "execution_count": 0,
      "outputs": [
        {
          "output_type": "stream",
          "text": [
            "+--------------------+\n",
            "|              text_1|\n",
            "+--------------------+\n",
            "|1 Gobierno del Es...|\n",
            "|1 | Si eres un cl...|\n",
            "| 330MCO1 1 1 1 1 URL|\n",
            "|1 1 sobre el 1 1 ...|\n",
            "|1 | 1 En tus mano...|\n",
            "|To treat COVID-19...|\n",
            "|To treat COVID-19...|\n",
            "|         MichiganDOT|\n",
            "|1 1 1 1 1 1 1 1 1...|\n",
            "|Contacta amb AT_U...|\n",
            "|In this hospital,...|\n",
            "|1 Desde las 22:00...|\n",
            "|Los ecuatorianos ...|\n",
            "|1 1 1 Sabas que u...|\n",
            "|Sew a Face Mask f...|\n",
            "|Small businesses ...|\n",
            "|Women make up 70%...|\n",
            "|Mantener el hbito...|\n",
            "|We can all agree ...|\n",
            "|Para conter 1 1 i...|\n",
            "+--------------------+\n",
            "only showing top 20 rows\n",
            "\n"
          ],
          "name": "stdout"
        }
      ]
    },
    {
      "cell_type": "code",
      "metadata": {
        "id": "dt5LmOkW41Ly",
        "colab_type": "code",
        "colab": {}
      },
      "source": [
        "final_tweet4.write.csv('/Users/kuttu490/Downloads/tweets.csv')"
      ],
      "execution_count": 0,
      "outputs": []
    },
    {
      "cell_type": "code",
      "metadata": {
        "id": "iKhLsDO47tS4",
        "colab_type": "code",
        "colab": {}
      },
      "source": [
        "from google.colab import drive"
      ],
      "execution_count": 0,
      "outputs": []
    },
    {
      "cell_type": "code",
      "metadata": {
        "id": "Imh5et8m7tMU",
        "colab_type": "code",
        "outputId": "cdb86628-372e-49d9-e354-49ce28b22f58",
        "colab": {
          "base_uri": "https://localhost:8080/",
          "height": 122
        }
      },
      "source": [
        "drive.mount('/gdrive')"
      ],
      "execution_count": 0,
      "outputs": [
        {
          "output_type": "stream",
          "text": [
            "Go to this URL in a browser: https://accounts.google.com/o/oauth2/auth?client_id=947318989803-6bn6qk8qdgf4n4g3pfee6491hc0brc4i.apps.googleusercontent.com&redirect_uri=urn%3aietf%3awg%3aoauth%3a2.0%3aoob&response_type=code&scope=email%20https%3a%2f%2fwww.googleapis.com%2fauth%2fdocs.test%20https%3a%2f%2fwww.googleapis.com%2fauth%2fdrive%20https%3a%2f%2fwww.googleapis.com%2fauth%2fdrive.photos.readonly%20https%3a%2f%2fwww.googleapis.com%2fauth%2fpeopleapi.readonly\n",
            "\n",
            "Enter your authorization code:\n",
            "··········\n",
            "Mounted at /gdrive\n"
          ],
          "name": "stdout"
        }
      ]
    },
    {
      "cell_type": "code",
      "metadata": {
        "id": "L61d5CQW7tC_",
        "colab_type": "code",
        "outputId": "3925023e-85ba-4b01-cffe-638dfc8ebccc",
        "colab": {
          "base_uri": "https://localhost:8080/",
          "height": 34
        }
      },
      "source": [
        "final_tweet4.write.csv('tweet1_new.csv')\n",
        "!cp -r tweet1_new.csv \"drive/My Drive/\""
      ],
      "execution_count": 0,
      "outputs": [
        {
          "output_type": "stream",
          "text": [
            "cp: cannot create directory 'drive/My Drive/': No such file or directory\n"
          ],
          "name": "stdout"
        }
      ]
    },
    {
      "cell_type": "code",
      "metadata": {
        "id": "iHiNA6x0tvE0",
        "colab_type": "code",
        "outputId": "63588425-875c-499f-d8d2-ee3af86c5d6b",
        "colab": {
          "base_uri": "https://localhost:8080/",
          "height": 34
        }
      },
      "source": [
        "final_tweet3.withColumn(\"label\", final_tweet3[\"label\"].cast(IntegerType()))"
      ],
      "execution_count": 0,
      "outputs": [
        {
          "output_type": "execute_result",
          "data": {
            "text/plain": [
              "DataFrame[label: int, text_1: string, tweet_length: int]"
            ]
          },
          "metadata": {
            "tags": []
          },
          "execution_count": 152
        }
      ]
    }
  ]
}