{
 "cells": [
  {
   "cell_type": "code",
   "execution_count": null,
   "metadata": {},
   "outputs": [],
   "source": [
    "import pandas as pd\n",
    "from sqlalchemy import create_engine\n",
    "\n",
    "# pip install alpha_vantage\n",
    "from alpha_vantage.timeseries import TimeSeries\n",
    "import matplotlib.pyplot as plt"
   ]
  },
  {
   "cell_type": "code",
   "execution_count": null,
   "metadata": {},
   "outputs": [],
   "source": [
    "# Obtain free api key from alphavantage.co\n",
    "api_key = \"5GHY1AE5BGE4O8HT\"\n",
    "tickers = [\"DJI\", \"^GSPC\", \"^FTSE\", \"^HSI\", \"^N225\"]\n"
   ]
  },
  {
   "cell_type": "code",
   "execution_count": null,
   "metadata": {},
   "outputs": [],
   "source": [
    "# Be sure to update rds_connection_string with database connection info\n",
    "# Alphavantage limits API usage to 5 requests per minute\n",
    "\n",
    "rds_connection_string = \"postgres:postgres@localhost:5432/marketing_db\"\n",
    "engine = create_engine(f'postgresql://{rds_connection_string}')\n",
    "\n",
    "# If index_table already exists, delete it\n",
    "with engine.connect() as connection:\n",
    "    result = connection.execute(\"DROP TABLE IF EXISTS index_table;\")\n"
   ]
  },
  {
   "cell_type": "code",
   "execution_count": null,
   "metadata": {},
   "outputs": [],
   "source": [
    "# function to append each dataframe to SQL database\n",
    "\n",
    "def writeData(data): \n",
    "    data.to_sql(name='index_table', con=engine, if_exists='append', index=False)"
   ]
  },
  {
   "cell_type": "code",
   "execution_count": null,
   "metadata": {},
   "outputs": [],
   "source": [
    "# Load TimeSeries object and unpack Alphavantage timeseries into dataframe\n",
    "# Rename columns for easier reading and reset index value\n",
    "\n",
    "ts = TimeSeries(key=api_key, output_format='pandas')\n",
    "for ticker in tickers:\n",
    "    data, metadata = ts.get_daily(symbol=ticker, outputsize='full')\n",
    "    data['ticker'] = ticker\n",
    "    data = data.rename(columns={\"date\" : \"timestamp\", \"1. open\": \"open\", \"2. high\" : \"high\", \"3. low\": \"low\", \"4. close\" : \"close\", \"5. volume\" : \"volume\"})\n",
    "    data['change'] = data.groupby('ticker').close.pct_change()\n",
    "    data = data.reset_index()\n",
    "    writeData(data)    "
   ]
  },
  {
   "cell_type": "code",
   "execution_count": null,
   "metadata": {},
   "outputs": [],
   "source": [
    "df = pd.read_sql_query('select * from index_table', con=engine)"
   ]
  },
  {
   "cell_type": "code",
   "execution_count": null,
   "metadata": {},
   "outputs": [],
   "source": [
    "df.head()"
   ]
  },
  {
   "cell_type": "code",
   "execution_count": null,
   "metadata": {},
   "outputs": [],
   "source": []
  }
 ],
 "metadata": {
  "kernelspec": {
   "display_name": "Python 3",
   "language": "python",
   "name": "python3"
  },
  "language_info": {
   "codemirror_mode": {
    "name": "ipython",
    "version": 3
   },
   "file_extension": ".py",
   "mimetype": "text/x-python",
   "name": "python",
   "nbconvert_exporter": "python",
   "pygments_lexer": "ipython3",
   "version": "3.7.3"
  }
 },
 "nbformat": 4,
 "nbformat_minor": 2
}
