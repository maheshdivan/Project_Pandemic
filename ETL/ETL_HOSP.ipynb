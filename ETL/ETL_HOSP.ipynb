{
  "nbformat": 4,
  "nbformat_minor": 0,
  "metadata": {
    "colab": {
      "name": "ins_etl_s3_rds.ipynb",
      "provenance": []
    },
    "kernelspec": {
      "display_name": "Python 3",
      "language": "python",
      "name": "python3"
    },
    "language_info": {
      "codemirror_mode": {
        "name": "ipython",
        "version": 3
      },
      "file_extension": ".py",
      "mimetype": "text/x-python",
      "name": "python",
      "nbconvert_exporter": "python",
      "pygments_lexer": "ipython3",
      "version": "3.7.4"
    },
    "latex_envs": {
      "LaTeX_envs_menu_present": true,
      "autoclose": false,
      "autocomplete": true,
      "bibliofile": "biblio.bib",
      "cite_by": "apalike",
      "current_citInitial": 1,
      "eqLabelWithNumbers": true,
      "eqNumInitial": 1,
      "hotkeys": {
        "equation": "Ctrl-E",
        "itemize": "Ctrl-I"
      },
      "labels_anchors": false,
      "latex_user_defs": false,
      "report_style_numbering": false,
      "user_envs_cfg": false
    }
  },
  "cells": [
    {
      "cell_type": "code",
      "metadata": {
        "colab_type": "code",
        "id": "5WosHdRWdmpw",
        "colab": {}
      },
      "source": [
        "# Install Java, Spark, and Findspark\n",
        "!apt-get install openjdk-8-jdk-headless -qq > /dev/null\n",
        "!wget -q http://www-us.apache.org/dist/spark/spark-2.4.5/spark-2.4.5-bin-hadoop2.7.tgz\n",
        "!tar xf spark-2.4.5-bin-hadoop2.7.tgz\n",
        "!pip install -q findspark\n",
        "\n",
        "# Set Environment Variables\n",
        "import os\n",
        "os.environ[\"JAVA_HOME\"] = \"/usr/lib/jvm/java-8-openjdk-amd64\"\n",
        "os.environ[\"SPARK_HOME\"] = \"/content/spark-2.4.5-bin-hadoop2.7\"\n",
        "\n",
        "# Start a SparkSession\n",
        "import findspark\n",
        "findspark.init()"
      ],
      "execution_count": 0,
      "outputs": []
    },
    {
      "cell_type": "code",
      "metadata": {
        "colab_type": "code",
        "id": "xISV-9eR6Yah",
        "outputId": "df8da944-a0d3-417e-e507-e65c2336b84a",
        "colab": {
          "base_uri": "https://localhost:8080/",
          "height": 204
        }
      },
      "source": [
        "!wget https://jdbc.postgresql.org/download/postgresql-42.2.9.jar"
      ],
      "execution_count": 2,
      "outputs": [
        {
          "output_type": "stream",
          "text": [
            "--2020-04-10 00:32:35--  https://jdbc.postgresql.org/download/postgresql-42.2.9.jar\n",
            "Resolving jdbc.postgresql.org (jdbc.postgresql.org)... 72.32.157.228, 2001:4800:3e1:1::228\n",
            "Connecting to jdbc.postgresql.org (jdbc.postgresql.org)|72.32.157.228|:443... connected.\n",
            "HTTP request sent, awaiting response... 200 OK\n",
            "Length: 914037 (893K) [application/java-archive]\n",
            "Saving to: ‘postgresql-42.2.9.jar’\n",
            "\n",
            "\rpostgresql-42.2.9.j   0%[                    ]       0  --.-KB/s               \rpostgresql-42.2.9.j  49%[========>           ] 440.00K  2.15MB/s               \rpostgresql-42.2.9.j 100%[===================>] 892.61K  3.64MB/s    in 0.2s    \n",
            "\n",
            "2020-04-10 00:32:36 (3.64 MB/s) - ‘postgresql-42.2.9.jar’ saved [914037/914037]\n",
            "\n"
          ],
          "name": "stdout"
        }
      ]
    },
    {
      "cell_type": "code",
      "metadata": {
        "colab_type": "code",
        "id": "aEQFTWiV6g2h",
        "colab": {}
      },
      "source": [
        "from pyspark.sql import SparkSession\n",
        "spark = SparkSession.builder.appName(\"HospETL\").config(\"spark.driver.extraClassPath\",\"/content/postgresql-42.2.9.jar\").getOrCreate()"
      ],
      "execution_count": 0,
      "outputs": []
    },
    {
      "cell_type": "code",
      "metadata": {
        "colab_type": "code",
        "id": "qik6uGSV9BWa",
        "outputId": "e781d64c-39e1-4154-905c-ecaa9f420877",
        "colab": {
          "base_uri": "https://localhost:8080/",
          "height": 479
        }
      },
      "source": [
        "# Read in data from S3 Buckets\n",
        "from pyspark import SparkFiles\n",
        "url=\"https://project-pandemix.s3.us-east-2.amazonaws.com/us_hospital_data.csv\"\n",
        "spark.sparkContext.addFile(url)\n",
        "hosp_data_df = spark.read.csv(SparkFiles.get(\"us_hospital_data.csv\"), sep=\",\", header=True, inferSchema=True)\n",
        "\n",
        "# Show DataFrame\n",
        "hosp_data_df.show()"
      ],
      "execution_count": 5,
      "outputs": [
        {
          "output_type": "stream",
          "text": [
            "+------------+----------+--------------------+--------------------+----------------+--------------+----------------+----------------+------------+--------------+-------------+---------------+------------------------+--------------+\n",
            "|         lat|      long|       hospital_name|       hospital_type|          county|         state|num_licensed_bds|num_staffed_beds|num_icu_beds|adult_icu_beds|pedi_icu_beds|bed_utilization|increase_in_bed_capacity|avg_vent_usage|\n",
            "+------------+----------+--------------------+--------------------+----------------+--------------+----------------+----------------+------------+--------------+-------------+---------------+------------------------+--------------+\n",
            "| -81.7362671|26.0961161|The Willough at N...|Psychiatric Hospital|         Collier|       Florida|              87|              87|           0|             0|            0|      0.9435995|                       0|             0|\n",
            "|-115.2158712|36.1459741|Spring Mountain S...|Psychiatric Hospital|           Clark|        Nevada|              30|              30|           1|             1|            0|      0.7861187|                       0|             2|\n",
            "|-109.5597751|38.5751558|Moab Regional Hos...|Critical Access H...|           Grand|          Utah|              17|              17|           3|             3|            0|      0.3519742|                       0|             2|\n",
            "| -91.9635052|44.6211996|AdventHealth Dura...|Critical Access H...|           Pepin|     Wisconsin|              25|              25|           4|             4|            0|      0.1429041|                       0|             0|\n",
            "| -97.8669737|42.9913571|St Michaels Hospi...|Critical Access H...|       Bon Homme|  South Dakota|              25|              25|           4|             4|            0|      0.2029589|                       0|             1|\n",
            "|    -98.1975|   33.8139|Clay County Memor...|Critical Access H...|            Clay|         Texas|              25|              25|           4|             4|            0|     0.05983562|                       0|             0|\n",
            "| -78.3920511|40.4980292|Encompass Health ...|Rehabilitation Ho...|           Blair|  Pennsylvania|              80|              80|           0|             0|            0|      0.8095205|                       0|             0|\n",
            "| -84.7558701|41.3002375|Community Memoria...|Critical Access H...|        Defiance|          Ohio|              30|              25|           4|             4|            0|       0.185863|                       5|             1|\n",
            "| -95.4736033|29.7083699|Behavioral Hospit...|Psychiatric Hospital|          Harris|         Texas|             122|             122|           0|             0|            0|      0.7738827|                       0|             0|\n",
            "| -97.6935196|30.4836198|Encompass Health ...|Rehabilitation Ho...|      Williamson|         Texas|              75|              50|           0|             0|            0|      0.9484931|                      25|             0|\n",
            "| -97.6727423|26.1597253|Solara Specialty ...|Long Term Acute C...|         Cameron|         Texas|              41|              41|           7|             7|            0|      0.7718677|                       0|             5|\n",
            "|  -90.417045|38.5504936|Peace Haven Assoc...|Religious Non-Med...|St. Louis County|      Missouri|              14|              14|           0|             0|            0|      0.5790607|                       0|             0|\n",
            "| -95.4606623|30.1724283|Nexus Specialty H...|Long Term Acute C...|      Montgomery|         Texas|              21|              85|          16|            16|            0|      0.4015471|                     -64|             2|\n",
            "|-106.4362332|31.7720265|El Paso Psychiatr...|Psychiatric Hospital|         El Paso|         Texas|              74|              74|           0|             0|            0|      0.9123658|                       0|             0|\n",
            "|   -145.7515|   60.5501|Cordova Community...|Critical Access H...|  Valdez-Cordova|        Alaska|              13|              13|           2|             2|            0|      0.2149631|                       0|             0|\n",
            "| -77.3745515|34.7458938| Brynn Marr Hospital|Psychiatric Hospital|          Onslow|North Carolina|              84|              84|           0|             0|            0|      0.8233855|                       0|             0|\n",
            "| -95.2765614|29.9937741|Encompass Health ...|Rehabilitation Ho...|          Harris|         Texas|              90|              90|           0|             0|            0|      0.4207915|                       0|             0|\n",
            "| -96.6353164|39.8480467|Community Memoria...|Critical Access H...|        Marshall|        Kansas|              25|              23|           4|             4|            0|      0.4414532|                       2|             2|\n",
            "| -83.9895809|33.9424537|SummitRidge Hospital|Psychiatric Hospital|        Gwinnett|       Georgia|              96|              96|           0|             0|            0|      0.9065068|                       0|             0|\n",
            "| -86.1588814|41.6712174|Medical Behaviora...|Psychiatric Hospital|      St. Joseph|       Indiana|              30|              30|           0|             0|            0|      0.9445662|                       0|             0|\n",
            "+------------+----------+--------------------+--------------------+----------------+--------------+----------------+----------------+------------+--------------+-------------+---------------+------------------------+--------------+\n",
            "only showing top 20 rows\n",
            "\n"
          ],
          "name": "stdout"
        }
      ]
    },
    {
      "cell_type": "markdown",
      "metadata": {
        "colab_type": "text",
        "id": "kQgPpNnVnRwh"
      },
      "source": [
        "Postgres Setup"
      ]
    },
    {
      "cell_type": "code",
      "metadata": {
        "colab_type": "code",
        "id": "985Vl1dtmpVU",
        "colab": {}
      },
      "source": [
        "# Configure settings for RDS\n",
        "mode = \"overwrite\"\n",
        "jdbc_url=\"jdbc:postgresql://hospitalutil.cuo7ivhfh3jn.us-east-1.rds.amazonaws.com:5432/hospitalutil\"\n",
        "config = {\"user\":\"root\", \n",
        "          \"password\": \"postgress\", \n",
        "          \"driver\":\"org.postgresql.Driver\"}\n"
      ],
      "execution_count": 0,
      "outputs": []
    },
    {
      "cell_type": "code",
      "metadata": {
        "colab_type": "code",
        "id": "9yyZgvcUnaNN",
        "colab": {}
      },
      "source": [
        "# Write DataFrame to active_user table in RDS\n",
        "\n",
        "hosp_data_df.write.jdbc(url=jdbc_url, table='hospitalutil', mode=mode, properties=config)"
      ],
      "execution_count": 0,
      "outputs": []
    },
    {
      "cell_type": "code",
      "metadata": {
        "colab_type": "code",
        "id": "Kx3hMnlAD5FA",
        "colab": {}
      },
      "source": [
        ""
      ],
      "execution_count": 0,
      "outputs": []
    }
  ]
}