{
 "cells": [
  {
   "cell_type": "code",
   "execution_count": 1,
   "metadata": {},
   "outputs": [],
   "source": [
    "import pandas as pd\n",
    "from sqlalchemy import create_engine\n",
    "\n",
    "# pip install alpha_vantage\n",
    "from alpha_vantage.timeseries import TimeSeries\n",
    "import matplotlib.pyplot as plt"
   ]
  },
  {
   "cell_type": "code",
   "execution_count": 2,
   "metadata": {},
   "outputs": [],
   "source": [
    "# Obtain free api key from alphavantage.co\n",
    "api_key = \"5GHY1AE5BGE4O8HT\"\n",
    "tickers = [\"DJI\", \"^GSPC\", \"^FTSE\", \"^HSI\", \"^N225\"]\n"
   ]
  },
  {
   "cell_type": "code",
   "execution_count": 3,
   "metadata": {},
   "outputs": [],
   "source": [
    "# Be sure to update rds_connection_string with database connection info\n",
    "# Alphavantage limits API usage to 5 requests per minute\n",
    "\n",
    "rds_connection_string = \"postgres:postgres@database-1.cpnwuinodiya.us-east-1.rds.amazonaws.com:5432/market_data\"\n",
    "engine = create_engine(f'postgresql://{rds_connection_string}')\n",
    "\n",
    "# If index_table already exists, delete it\n",
    "with engine.connect() as connection:\n",
    "    result = connection.execute(\"DROP TABLE IF EXISTS index_table;\")\n"
   ]
  },
  {
   "cell_type": "code",
   "execution_count": 4,
   "metadata": {},
   "outputs": [],
   "source": [
    "# function to append each dataframe to SQL database\n",
    "\n",
    "def writeData(data): \n",
    "    data.to_sql(name='index_table', con=engine, if_exists='append', index=False)"
   ]
  },
  {
   "cell_type": "code",
   "execution_count": 5,
   "metadata": {},
   "outputs": [],
   "source": [
    "# Load TimeSeries object and unpack Alphavantage timeseries into dataframe\n",
    "# Rename columns for easier reading and reset index value\n",
    "\n",
    "ts = TimeSeries(key=api_key, output_format='pandas')\n",
    "for ticker in tickers:\n",
    "    data, metadata = ts.get_daily(symbol=ticker, outputsize='full')\n",
    "    data['ticker'] = ticker\n",
    "    data = data.rename(columns={\"date\" : \"timestamp\", \"1. open\": \"open\", \"2. high\" : \"high\", \"3. low\": \"low\", \"4. close\" : \"close\", \"5. volume\" : \"volume\"})\n",
    "    data['change'] = data.groupby('ticker').close.pct_change()\n",
    "    data = data.reset_index()\n",
    "    writeData(data)    "
   ]
  },
  {
   "cell_type": "code",
   "execution_count": 6,
   "metadata": {},
   "outputs": [],
   "source": [
    "df = pd.read_sql_query('select * from index_table', con=engine)"
   ]
  },
  {
   "cell_type": "code",
   "execution_count": 7,
   "metadata": {},
   "outputs": [
    {
     "data": {
      "text/html": [
       "<div>\n",
       "<style scoped>\n",
       "    .dataframe tbody tr th:only-of-type {\n",
       "        vertical-align: middle;\n",
       "    }\n",
       "\n",
       "    .dataframe tbody tr th {\n",
       "        vertical-align: top;\n",
       "    }\n",
       "\n",
       "    .dataframe thead th {\n",
       "        text-align: right;\n",
       "    }\n",
       "</style>\n",
       "<table border=\"1\" class=\"dataframe\">\n",
       "  <thead>\n",
       "    <tr style=\"text-align: right;\">\n",
       "      <th></th>\n",
       "      <th>date</th>\n",
       "      <th>open</th>\n",
       "      <th>high</th>\n",
       "      <th>low</th>\n",
       "      <th>close</th>\n",
       "      <th>volume</th>\n",
       "      <th>ticker</th>\n",
       "      <th>change</th>\n",
       "    </tr>\n",
       "  </thead>\n",
       "  <tbody>\n",
       "    <tr>\n",
       "      <th>0</th>\n",
       "      <td>2000-01-03</td>\n",
       "      <td>11501.8496</td>\n",
       "      <td>11522.0098</td>\n",
       "      <td>11305.6904</td>\n",
       "      <td>11357.5098</td>\n",
       "      <td>169750000.0</td>\n",
       "      <td>DJI</td>\n",
       "      <td>NaN</td>\n",
       "    </tr>\n",
       "    <tr>\n",
       "      <th>1</th>\n",
       "      <td>2000-01-04</td>\n",
       "      <td>11349.7500</td>\n",
       "      <td>11350.0596</td>\n",
       "      <td>10986.4502</td>\n",
       "      <td>10997.9297</td>\n",
       "      <td>178420000.0</td>\n",
       "      <td>DJI</td>\n",
       "      <td>-0.031660</td>\n",
       "    </tr>\n",
       "    <tr>\n",
       "      <th>2</th>\n",
       "      <td>2000-01-05</td>\n",
       "      <td>10989.3701</td>\n",
       "      <td>11215.0996</td>\n",
       "      <td>10938.6699</td>\n",
       "      <td>11122.6504</td>\n",
       "      <td>203190000.0</td>\n",
       "      <td>DJI</td>\n",
       "      <td>0.011340</td>\n",
       "    </tr>\n",
       "    <tr>\n",
       "      <th>3</th>\n",
       "      <td>2000-01-06</td>\n",
       "      <td>11113.3701</td>\n",
       "      <td>11313.4502</td>\n",
       "      <td>11098.4502</td>\n",
       "      <td>11253.2598</td>\n",
       "      <td>176550000.0</td>\n",
       "      <td>DJI</td>\n",
       "      <td>0.011743</td>\n",
       "    </tr>\n",
       "    <tr>\n",
       "      <th>4</th>\n",
       "      <td>2000-01-07</td>\n",
       "      <td>11247.0596</td>\n",
       "      <td>11528.1396</td>\n",
       "      <td>11239.9199</td>\n",
       "      <td>11522.5596</td>\n",
       "      <td>184900000.0</td>\n",
       "      <td>DJI</td>\n",
       "      <td>0.023931</td>\n",
       "    </tr>\n",
       "  </tbody>\n",
       "</table>\n",
       "</div>"
      ],
      "text/plain": [
       "        date        open        high         low       close       volume  \\\n",
       "0 2000-01-03  11501.8496  11522.0098  11305.6904  11357.5098  169750000.0   \n",
       "1 2000-01-04  11349.7500  11350.0596  10986.4502  10997.9297  178420000.0   \n",
       "2 2000-01-05  10989.3701  11215.0996  10938.6699  11122.6504  203190000.0   \n",
       "3 2000-01-06  11113.3701  11313.4502  11098.4502  11253.2598  176550000.0   \n",
       "4 2000-01-07  11247.0596  11528.1396  11239.9199  11522.5596  184900000.0   \n",
       "\n",
       "  ticker    change  \n",
       "0    DJI       NaN  \n",
       "1    DJI -0.031660  \n",
       "2    DJI  0.011340  \n",
       "3    DJI  0.011743  \n",
       "4    DJI  0.023931  "
      ]
     },
     "execution_count": 7,
     "metadata": {},
     "output_type": "execute_result"
    }
   ],
   "source": [
    "df.head()"
   ]
  },
  {
   "cell_type": "code",
   "execution_count": null,
   "metadata": {},
   "outputs": [],
   "source": []
  }
 ],
 "metadata": {
  "kernelspec": {
   "display_name": "Python 3",
   "language": "python",
   "name": "python3"
  },
  "language_info": {
   "codemirror_mode": {
    "name": "ipython",
    "version": 3
   },
   "file_extension": ".py",
   "mimetype": "text/x-python",
   "name": "python",
   "nbconvert_exporter": "python",
   "pygments_lexer": "ipython3",
   "version": "3.7.3"
  }
 },
 "nbformat": 4,
 "nbformat_minor": 2
}
